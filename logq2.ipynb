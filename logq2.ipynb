{
 "cells": [
  {
   "cell_type": "code",
   "execution_count": 2,
   "id": "adcd3d0e",
   "metadata": {},
   "outputs": [
    {
     "name": "stdout",
     "output_type": "stream",
     "text": [
      "Predicted Income (>50K=1, <=50K=0): 1\n"
     ]
    }
   ],
   "source": [
    "import numpy as np\n",
    "from sklearn.model_selection import train_test_split\n",
    "from sklearn.linear_model import LogisticRegression\n",
    "\n",
    "# Dataset: Education level, Age → Income >50K (1) or not (0)\n",
    "X = np.array([\n",
    "    [10, 25], [12, 30], [14, 28], [16, 40], [18, 50],\n",
    "    [10, 22], [11, 26], [13, 35], [15, 45], [17, 55]\n",
    "])\n",
    "y = np.array([0, 0, 0, 1, 1, 0, 0, 1, 1, 1])\n",
    "\n",
    "# Train/test split\n",
    "X_train, X_test, y_train, y_test = train_test_split(X, y, test_size=0.2, random_state=42)\n",
    "\n",
    "# Logistic regression model\n",
    "model = LogisticRegression()\n",
    "model.fit(X_train, y_train)\n",
    "\n",
    "# Predict income category for a new person\n",
    "new_person = [[14, 32]]\n",
    "predicted_income = model.predict(new_person)\n",
    "\n",
    "print(\"Predicted Income (>50K=1, <=50K=0):\", predicted_income[0])\n",
    "\n"
   ]
  }
 ],
 "metadata": {
  "kernelspec": {
   "display_name": "Python 3",
   "language": "python",
   "name": "python3"
  },
  "language_info": {
   "codemirror_mode": {
    "name": "ipython",
    "version": 3
   },
   "file_extension": ".py",
   "mimetype": "text/x-python",
   "name": "python",
   "nbconvert_exporter": "python",
   "pygments_lexer": "ipython3",
   "version": "3.13.7"
  }
 },
 "nbformat": 4,
 "nbformat_minor": 5
}
