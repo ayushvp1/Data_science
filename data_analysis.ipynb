{
 "cells": [
  {
   "cell_type": "code",
   "execution_count": 40,
   "id": "9a7f4daa",
   "metadata": {},
   "outputs": [
    {
     "name": "stdout",
     "output_type": "stream",
     "text": [
      "ORDERNUMBER            0\n",
      "QUANTITYORDERED        0\n",
      "PRICEEACH              0\n",
      "ORDERLINENUMBER        0\n",
      "SALES                  0\n",
      "ORDERDATE            195\n",
      "STATUS                 7\n",
      "QTR_ID                 7\n",
      "MONTH_ID               7\n",
      "YEAR_ID               54\n",
      "PRODUCTLINE          196\n",
      "MSRP                  60\n",
      "PRODUCTCODE            7\n",
      "CUSTOMERNAME          46\n",
      "PHONE                 93\n",
      "ADDRESSLINE1         242\n",
      "ADDRESSLINE2        2544\n",
      "CITY                   7\n",
      "STATE               1491\n",
      "POSTALCODE            83\n",
      "COUNTRY                7\n",
      "TERRITORY           1077\n",
      "CONTACTLASTNAME        7\n",
      "CONTACTFIRSTNAME       7\n",
      "DEALSIZE             168\n",
      "dtype: int64\n",
      "0    2004.0\n",
      "Name: YEAR_ID, dtype: float64\n"
     ]
    }
   ],
   "source": [
    "import pandas as pd\n",
    "data = pd.read_csv(\"C:MISSING_DATASET_HANDLING.csv\",encoding='latin1')\n",
    "print(data.isnull().sum())\n",
    "print(data[\"YEAR_ID\"].mode())"
   ]
  },
  {
   "cell_type": "code",
   "execution_count": 41,
   "id": "e60c7768",
   "metadata": {},
   "outputs": [
    {
     "name": "stdout",
     "output_type": "stream",
     "text": [
      "ORDERNUMBER            0\n",
      "QUANTITYORDERED        0\n",
      "PRICEEACH              0\n",
      "ORDERLINENUMBER        0\n",
      "SALES                  0\n",
      "ORDERDATE            195\n",
      "STATUS                 7\n",
      "QTR_ID                 7\n",
      "MONTH_ID               7\n",
      "YEAR_ID                0\n",
      "PRODUCTLINE          196\n",
      "MSRP                   0\n",
      "PRODUCTCODE            7\n",
      "CUSTOMERNAME          46\n",
      "PHONE                 93\n",
      "ADDRESSLINE1         242\n",
      "ADDRESSLINE2        2544\n",
      "CITY                   7\n",
      "STATE               1491\n",
      "POSTALCODE            83\n",
      "COUNTRY                7\n",
      "TERRITORY           1077\n",
      "CONTACTLASTNAME        7\n",
      "CONTACTFIRSTNAME       7\n",
      "DEALSIZE             168\n",
      "dtype: int64\n",
      "   ORDERNUMBER  QUANTITYORDERED  PRICEEACH  ORDERLINENUMBER   SALES  \\\n",
      "0        10106             34.0      100.0              1.0  3003.0   \n",
      "1        10159              NaN        NaN              NaN     NaN   \n",
      "2        10165              NaN        NaN              NaN     NaN   \n",
      "3        10168              NaN        NaN              NaN     NaN   \n",
      "4        10222              NaN        NaN              NaN     NaN   \n",
      "5        10275              NaN        NaN              NaN     NaN   \n",
      "6        10316              NaN        NaN              NaN     NaN   \n",
      "7        10332              NaN        NaN              NaN     NaN   \n",
      "8        10386              NaN        NaN              NaN     NaN   \n",
      "9        10398              NaN        NaN              NaN     NaN   \n",
      "\n",
      "         ORDERDATE   STATUS  QTR_ID  MONTH_ID  YEAR_ID  ...  \\\n",
      "0  11/14/2003 0:00  Shipped     4.0      11.0   2004.0  ...   \n",
      "1              NaN      NaN     NaN       NaN      NaN  ...   \n",
      "2              NaN      NaN     NaN       NaN      NaN  ...   \n",
      "3              NaN      NaN     NaN       NaN      NaN  ...   \n",
      "4              NaN      NaN     NaN       NaN      NaN  ...   \n",
      "5              NaN      NaN     NaN       NaN      NaN  ...   \n",
      "6              NaN      NaN     NaN       NaN      NaN  ...   \n",
      "7              NaN      NaN     NaN       NaN      NaN  ...   \n",
      "8              NaN      NaN     NaN       NaN      NaN  ...   \n",
      "9              NaN      NaN     NaN       NaN      NaN  ...   \n",
      "\n",
      "         ADDRESSLINE1  ADDRESSLINE2    CITY STATE POSTALCODE COUNTRY  \\\n",
      "0  C/ Moralzarzal, 86       Level 3  Madrid    CA      28034     USA   \n",
      "1                 NaN           NaN     NaN   NaN        NaN     NaN   \n",
      "2                 NaN           NaN     NaN   NaN        NaN     NaN   \n",
      "3                 NaN           NaN     NaN   NaN        NaN     NaN   \n",
      "4                 NaN           NaN     NaN   NaN        NaN     NaN   \n",
      "5                 NaN           NaN     NaN   NaN        NaN     NaN   \n",
      "6                 NaN           NaN     NaN   NaN        NaN     NaN   \n",
      "7                 NaN           NaN     NaN   NaN        NaN     NaN   \n",
      "8                 NaN           NaN     NaN   NaN        NaN     NaN   \n",
      "9                 NaN           NaN     NaN   NaN        NaN     NaN   \n",
      "\n",
      "  TERRITORY CONTACTLASTNAME CONTACTFIRSTNAME DEALSIZE  \n",
      "0      EMEA          Freyre            Diego   Medium  \n",
      "1       NaN             NaN              NaN      NaN  \n",
      "2       NaN             NaN              NaN      NaN  \n",
      "3       NaN             NaN              NaN      NaN  \n",
      "4       NaN             NaN              NaN      NaN  \n",
      "5       NaN             NaN              NaN      NaN  \n",
      "6       NaN             NaN              NaN      NaN  \n",
      "7       NaN             NaN              NaN      NaN  \n",
      "8       NaN             NaN              NaN      NaN  \n",
      "9       NaN             NaN              NaN      NaN  \n",
      "\n",
      "[10 rows x 25 columns]\n"
     ]
    }
   ],
   "source": [
    "data[\"MSRP\"] = data[\"MSRP\"].fillna(data[\"MSRP\"].median())\n",
    "data[\"YEAR_ID\"] = data[\"YEAR_ID\"].fillna(data[\"YEAR_ID\"].mode()[0])\n",
    "print(data.isnull().sum())\n",
    "print(data.mode())"
   ]
  },
  {
   "cell_type": "code",
   "execution_count": 42,
   "id": "9a825bef",
   "metadata": {},
   "outputs": [
    {
     "name": "stdout",
     "output_type": "stream",
     "text": [
      "ORDERNUMBER            0\n",
      "QUANTITYORDERED        0\n",
      "PRICEEACH              0\n",
      "ORDERLINENUMBER        0\n",
      "SALES                  0\n",
      "ORDERDATE            195\n",
      "STATUS                 0\n",
      "QTR_ID                 7\n",
      "MONTH_ID               7\n",
      "YEAR_ID                0\n",
      "PRODUCTLINE          196\n",
      "MSRP                   0\n",
      "PRODUCTCODE            7\n",
      "CUSTOMERNAME          46\n",
      "PHONE                 93\n",
      "ADDRESSLINE1         242\n",
      "ADDRESSLINE2        2544\n",
      "CITY                   7\n",
      "STATE               1491\n",
      "POSTALCODE            83\n",
      "COUNTRY                7\n",
      "TERRITORY           1077\n",
      "CONTACTLASTNAME        7\n",
      "CONTACTFIRSTNAME       7\n",
      "DEALSIZE             168\n",
      "dtype: int64\n"
     ]
    },
    {
     "name": "stderr",
     "output_type": "stream",
     "text": [
      "C:\\Users\\pc\\AppData\\Local\\Temp\\ipykernel_11516\\2466273632.py:1: FutureWarning: A value is trying to be set on a copy of a DataFrame or Series through chained assignment using an inplace method.\n",
      "The behavior will change in pandas 3.0. This inplace method will never work because the intermediate object on which we are setting values always behaves as a copy.\n",
      "\n",
      "For example, when doing 'df[col].method(value, inplace=True)', try using 'df.method({col: value}, inplace=True)' or df[col] = df[col].method(value) instead, to perform the operation inplace on the original object.\n",
      "\n",
      "\n",
      "  data[\"STATUS\"].fillna(data[\"STATUS\"].mode()[0],inplace=True)\n"
     ]
    }
   ],
   "source": [
    "data[\"STATUS\"].fillna(data[\"STATUS\"].mode()[0],inplace=True)\n",
    "print(data.isnull().sum())"
   ]
  },
  {
   "cell_type": "code",
   "execution_count": 43,
   "id": "d17dbcb8",
   "metadata": {},
   "outputs": [
    {
     "name": "stdout",
     "output_type": "stream",
     "text": [
      "ORDERNUMBER            0\n",
      "QUANTITYORDERED        0\n",
      "PRICEEACH              0\n",
      "ORDERLINENUMBER        0\n",
      "SALES                  0\n",
      "ORDERDATE            195\n",
      "STATUS                 0\n",
      "QTR_ID                 7\n",
      "MONTH_ID               7\n",
      "YEAR_ID                0\n",
      "PRODUCTLINE          196\n",
      "MSRP                   0\n",
      "PRODUCTCODE            7\n",
      "CUSTOMERNAME          46\n",
      "PHONE                  0\n",
      "ADDRESSLINE1         242\n",
      "ADDRESSLINE2        2544\n",
      "CITY                   7\n",
      "STATE               1491\n",
      "POSTALCODE            83\n",
      "COUNTRY                7\n",
      "TERRITORY           1077\n",
      "CONTACTLASTNAME        7\n",
      "CONTACTFIRSTNAME       7\n",
      "DEALSIZE             168\n",
      "dtype: int64\n"
     ]
    }
   ],
   "source": [
    "data[\"PHONE\"].fillna(\"unknown\",inplace=True)\n",
    "print(data.isnull().sum())\n"
   ]
  },
  {
   "cell_type": "code",
   "execution_count": 17,
   "id": "ba0b5814",
   "metadata": {},
   "outputs": [
    {
     "name": "stdout",
     "output_type": "stream",
     "text": [
      "ORDERNUMBER            0\n",
      "QUANTITYORDERED        0\n",
      "PRICEEACH              0\n",
      "ORDERLINENUMBER        0\n",
      "SALES                  0\n",
      "ORDERDATE              0\n",
      "STATUS                 0\n",
      "QTR_ID                 0\n",
      "MONTH_ID               0\n",
      "YEAR_ID                0\n",
      "PRODUCTLINE            0\n",
      "MSRP                   0\n",
      "PRODUCTCODE            0\n",
      "CUSTOMERNAME           0\n",
      "PHONE                 32\n",
      "ADDRESSLINE1          48\n",
      "CITY                   0\n",
      "STATE               1352\n",
      "POSTALCODE            66\n",
      "COUNTRY                0\n",
      "TERRITORY            964\n",
      "CONTACTLASTNAME        0\n",
      "CONTACTFIRSTNAME       0\n",
      "DEALSIZE               0\n",
      "dtype: int64\n"
     ]
    }
   ],
   "source": [
    "data = data.drop(columns=[\"ADDRESSLINE2\"])\n",
    "print(data.isnull().sum())"
   ]
  },
  {
   "cell_type": "code",
   "execution_count": 18,
   "id": "8b504f8c",
   "metadata": {},
   "outputs": [
    {
     "name": "stdout",
     "output_type": "stream",
     "text": [
      "ORDERNUMBER            0\n",
      "QUANTITYORDERED        0\n",
      "PRICEEACH              0\n",
      "ORDERLINENUMBER        0\n",
      "SALES                  0\n",
      "ORDERDATE              0\n",
      "STATUS                 0\n",
      "QTR_ID                 0\n",
      "MONTH_ID               0\n",
      "YEAR_ID                0\n",
      "PRODUCTLINE            0\n",
      "MSRP                   0\n",
      "PRODUCTCODE            0\n",
      "CUSTOMERNAME           0\n",
      "PHONE                 32\n",
      "ADDRESSLINE1          48\n",
      "CITY                   0\n",
      "STATE               1352\n",
      "POSTALCODE            66\n",
      "COUNTRY                0\n",
      "TERRITORY            964\n",
      "CONTACTLASTNAME        0\n",
      "CONTACTFIRSTNAME       0\n",
      "DEALSIZE               0\n",
      "dtype: int64\n"
     ]
    }
   ],
   "source": [
    "data = data.dropna(subset=[\"ORDERDATE\",\"PRODUCTLINE\"])\n",
    "print(data.isnull().sum())"
   ]
  },
  {
   "cell_type": "code",
   "execution_count": null,
   "id": "93a42cca",
   "metadata": {},
   "outputs": [],
   "source": []
  }
 ],
 "metadata": {
  "kernelspec": {
   "display_name": "Python 3",
   "language": "python",
   "name": "python3"
  },
  "language_info": {
   "codemirror_mode": {
    "name": "ipython",
    "version": 3
   },
   "file_extension": ".py",
   "mimetype": "text/x-python",
   "name": "python",
   "nbconvert_exporter": "python",
   "pygments_lexer": "ipython3",
   "version": "3.13.7"
  }
 },
 "nbformat": 4,
 "nbformat_minor": 5
}
