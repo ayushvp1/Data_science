{
 "cells": [
  {
   "cell_type": "code",
   "execution_count": null,
   "id": "fc46a97c",
   "metadata": {},
   "outputs": [
    {
     "name": "stdout",
     "output_type": "stream",
     "text": [
      "\n",
      "Accuracy score:  0.9210526315789473\n",
      "\n",
      " Classification Report: \n",
      "               precision    recall  f1-score   support\n",
      "\n",
      "           0       0.87      0.93      0.90        42\n",
      "           1       0.96      0.92      0.94        72\n",
      "\n",
      "    accuracy                           0.92       114\n",
      "   macro avg       0.91      0.92      0.92       114\n",
      "weighted avg       0.92      0.92      0.92       114\n",
      "\n"
     ]
    },
    {
     "name": "stderr",
     "output_type": "stream",
     "text": [
      "c:\\Users\\pc\\AppData\\Local\\Programs\\Python\\Python313\\Lib\\site-packages\\sklearn\\linear_model\\_logistic.py:473: ConvergenceWarning: lbfgs failed to converge after 100 iteration(s) (status=1):\n",
      "STOP: TOTAL NO. OF ITERATIONS REACHED LIMIT\n",
      "\n",
      "Increase the number of iterations to improve the convergence (max_iter=100).\n",
      "You might also want to scale the data as shown in:\n",
      "    https://scikit-learn.org/stable/modules/preprocessing.html\n",
      "Please also refer to the documentation for alternative solver options:\n",
      "    https://scikit-learn.org/stable/modules/linear_model.html#logistic-regression\n",
      "  n_iter_i = _check_optimize_result(\n"
     ]
    },
    {
     "data": {
      "image/png": "[encoded data removed]",
      "text/plain": [
       "<Figure size 500x400 with 2 Axes>"
      ]
     },
     "metadata": {},
     "output_type": "display_data"
    }
   ],
   "source": [
    "import pandas as pd\n",
    "from sklearn.datasets import load_breast_cancer\n",
    "from sklearn.model_selection import train_test_split\n",
    "from sklearn.linear_model import LogisticRegression\n",
    "from sklearn.metrics import accuracy_score, classification_report, confusion_matrix\n",
    "import seaborn as sns\n",
    "import matplotlib.pyplot as plt\n",
    "\n",
    "#-----------------------------------------DATA-------------------------------------------------#\n",
    "\n",
    "#1. Load Dataset\n",
    "data = load_breast_cancer()\n",
    "df = pd.DataFrame(data.data, columns=data.feature_names)\n",
    "df[\"target\"] = data.target # 0 = malignant, 1 = benign\n",
    "\n",
    "#keep only 5 important features + target\n",
    "df_small = df[[\"mean radius\", \"mean texture\", \"mean perimeter\", \"mean area\", \"mean smoothness\", \"target\"]]\n",
    "\n",
    "#2. Split Dataset\n",
    "x = df_small.drop(columns=[\"target\"])\n",
    "y = df_small[\"target\"]\n",
    "x_train, x_test, y_train, y_test = train_test_split(\n",
    "    x, y, test_size=0.2, random_state=42, stratify=y\n",
    ")\n",
    "\n",
    "#-------------------------------------------------MODEL CREATION---------------------------------#\n",
    "#3. Train Logistic Regression\n",
    "model = LogisticRegression()\n",
    "model.fit(x_train, y_train)\n",
    "\n",
    "# 4. Evaluation\n",
    "y_pred = model.predict(x_test)\n",
    "y_prob = model.predict_proba(x_test)[:, 1]\n",
    "print(\"\\nAccuracy score: \",accuracy_score(y_test,y_pred))\n",
    "print(\"\\n Classification Report: \\n\", classification_report(y_test,y_pred))\n",
    "#---------------------------------------------EVALUATION------------------------------------------#\n",
    "# Confusion Matrix\n",
    "cm = confusion_matrix(y_test,y_pred)\n",
    "plt.figure(figsize=(5,4))\n",
    "sns.heatmap(cm,cmap=\"Blues\",annot=True,\n",
    "            xticklabels=[\"Malignant\",\"Benign\"], yticklabels=[\"Malignant\",\"Benign\"])\n",
    "plt.xlabel(\"Predicted\")\n",
    "plt.ylabel(\"Actual\")\n",
    "plt.title(\"Confusion Matrix\")\n",
    "plt.show()\n",
    "\n",
    "\n",
    "#------------------------------------------------PREDICTION---------------------------------\n",
    "\n",
    "# 5. User Input Prediction\n",
    "# print(\"\\n--- Breast Cancer Prediction ---\")\n",
    "\n",
    "# mean_radius = float(input(\"Enter mean radius (e.g. 14.5): \"))\n",
    "# mean_texture = float(input(\"Enter mean texture (e.g. 20.0): \"))\n",
    "# mean_perimeter = float(input(\"Enter mean perimeter (e.g. 100.0): \"))\n",
    "# mean_area = float(input(\"Enter mean area (e.g. 900.0): \"))\n",
    "# mean_smoothness = float(input(\"Enter mean smoothness (e.g. 0.1): \"))\n",
    "\n",
    "# # Create DataFrame for user input\n",
    "# user_data = {\n",
    "#     \"mean radius\": mean_radius,\n",
    "#     \"mean texture\": mean_texture,\n",
    "#     \"mean perimeter\": mean_perimeter,\n",
    "#     \"mean area\": mean_area,\n",
    "#     \"mean smoothness\": mean_smoothness\n",
    "# }\n",
    "# user_df = pd.DataFrame([user_data])\n",
    "\n",
    "# # Predict\n",
    "# prediction = model.predict(user_df)[0]\n",
    "\n",
    "# if prediction == 1:\n",
    "#     print(f\"\\n Prediction: Benign (Not Cancerous) \")\n",
    "# else:\n",
    "#     print(f\"\\nPrediction: Malignant (Cancerous) \")\n"
   ]
  },
  {
   "cell_type": "code",
   "execution_count": null,
   "id": "04cf9313",
   "metadata": {},
   "outputs": [],
   "source": []
  }
 ],
 "metadata": {
  "kernelspec": {
   "display_name": "Python 3",
   "language": "python",
   "name": "python3"
  },
  "language_info": {
   "codemirror_mode": {
    "name": "ipython",
    "version": 3
   },
   "file_extension": ".py",
   "mimetype": "text/x-python",
   "name": "python",
   "nbconvert_exporter": "python",
   "pygments_lexer": "ipython3",
   "version": "3.13.7"
  }
 },
 "nbformat": 4,
 "nbformat_minor": 5
}
