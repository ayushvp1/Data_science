{
 "cells": [
  {
   "cell_type": "code",
   "execution_count": 2,
   "id": "0fcdfc57",
   "metadata": {},
   "outputs": [
    {
     "name": "stdout",
     "output_type": "stream",
     "text": [
      "Predicted Wine Quality: 7.01\n"
     ]
    }
   ],
   "source": [
    "import numpy as np\n",
    "from sklearn.model_selection import train_test_split\n",
    "from sklearn.linear_model import LinearRegression\n",
    "\n",
    "# Dataset: Acidity, Sugar → Quality Score\n",
    "X = np.array([\n",
    "    [7, 5],\n",
    "    [6, 6],\n",
    "    [7, 4],\n",
    "    [8, 7],\n",
    "    [6, 5],\n",
    "    [9, 8],\n",
    "    [5, 4],\n",
    "    [6, 7],\n",
    "    [8, 6],\n",
    "    [7, 5]\n",
    "])\n",
    "\n",
    "y = np.array([6, 7, 6, 8, 7, 9, 5, 7, 8, 6])  # Quality score (0–10 scale)\n",
    "\n",
    "# Train/test split\n",
    "X_train, X_test, y_train, y_test = train_test_split(X, y, test_size=0.2, random_state=42)\n",
    "\n",
    "# Train model\n",
    "model = LinearRegression()\n",
    "model.fit(X_train, y_train)\n",
    "\n",
    "# Predict quality for new wine\n",
    "new_wine = [[7, 6]]\n",
    "predicted_quality = model.predict(new_wine)\n",
    "\n",
    "print(\"Predicted Wine Quality:\", round(predicted_quality[0], 2))\n",
    "\n"
   ]
  }
 ],
 "metadata": {
  "kernelspec": {
   "display_name": "Python 3",
   "language": "python",
   "name": "python3"
  },
  "language_info": {
   "codemirror_mode": {
    "name": "ipython",
    "version": 3
   },
   "file_extension": ".py",
   "mimetype": "text/x-python",
   "name": "python",
   "nbconvert_exporter": "python",
   "pygments_lexer": "ipython3",
   "version": "3.13.7"
  }
 },
 "nbformat": 4,
 "nbformat_minor": 5
}
