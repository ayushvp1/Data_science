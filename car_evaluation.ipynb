{
 "cells": [
  {
   "cell_type": "code",
   "execution_count": null,
   "id": "988290c2",
   "metadata": {},
   "outputs": [
    {
     "name": "stdout",
     "output_type": "stream",
     "text": [
      "     buying  maint  doors persons lug_boot safety  class\n",
      "0     vhigh  vhigh      2       2    small    low  unacc\n",
      "1     vhigh  vhigh      2       2    small    med  unacc\n",
      "2     vhigh  vhigh      2       2    small   high  unacc\n",
      "3     vhigh  vhigh      2       2      med    low  unacc\n",
      "4     vhigh  vhigh      2       2      med    med  unacc\n",
      "...     ...    ...    ...     ...      ...    ...    ...\n",
      "1723    low    low  5more    more      med    med   good\n",
      "1724    low    low  5more    more      med   high  vgood\n",
      "1725    low    low  5more    more      big    low  unacc\n",
      "1726    low    low  5more    more      big    med   good\n",
      "1727    low    low  5more    more      big   high  vgood\n",
      "\n",
      "[1728 rows x 7 columns]\n"
     ]
    }
   ],
   "source": [
    "import pandas as pd\n",
    "from sklearn.model_selection import train_test_split\n",
    "from sklearn.linear_model import LogisticRegression\n",
    "from sklearn.metrics import accuracy_score, classification_report, confusion_matrix\n",
    "import seaborn as sns\n",
    "import matplotlib.pyplot as plt\n",
    "\n",
    "columns = ['buying','maint','doors','persons','lug_boot','safety','class']\n",
    "df = pd.read_csv(\"car.data\",names=columns)\n",
    "\n",
    "print(df)\n"
   ]
  },
  {
   "cell_type": "code",
   "execution_count": 5,
   "id": "da73d5d2",
   "metadata": {},
   "outputs": [
    {
     "name": "stdout",
     "output_type": "stream",
     "text": [
      "Accuracy: 0.7601156069364162\n",
      "\n",
      "Classification Report:\n",
      "               precision    recall  f1-score   support\n",
      "\n",
      "           0       0.67      0.40      0.50       104\n",
      "           1       0.78      0.91      0.84       242\n",
      "\n",
      "    accuracy                           0.76       346\n",
      "   macro avg       0.72      0.66      0.67       346\n",
      "weighted avg       0.75      0.76      0.74       346\n",
      "\n",
      "\n",
      "Confusion Matrix:\n",
      " [[ 42  62]\n",
      " [ 21 221]]\n",
      "\n",
      "Predicted binary decision for sample car: buy\n",
      "Probability of not_buy: 0.798\n",
      "Probability of buy    : 0.202\n"
     ]
    },
    {
     "data": {
      "image/png": "[encoded data removed]",
      "text/plain": [
       "<Figure size 800x500 with 1 Axes>"
      ]
     },
     "metadata": {},
     "output_type": "display_data"
    }
   ],
   "source": [
    "import pandas as pd\n",
    "from sklearn.model_selection import train_test_split\n",
    "from sklearn.preprocessing import LabelEncoder\n",
    "from sklearn.linear_model import LogisticRegression\n",
    "from sklearn.metrics import accuracy_score, classification_report, confusion_matrix\n",
    "import matplotlib.pyplot as plt\n",
    "\n",
    "# ------------------ LOAD DATA ------------------ #\n",
    "columns = ['buying','maint','doors','persons','lug_boot','safety','class']\n",
    "df = pd.read_csv('car.data', names=columns)\n",
    "\n",
    "# ------------------ BINARY TARGET ------------------ #\n",
    "df['class'] = df['class'].replace({\n",
    "    'unacc': 'not_buy',\n",
    "    'acc': 'buy',\n",
    "    'good': 'buy',\n",
    "    'vgood': 'buy'\n",
    "})\n",
    "\n",
    "# ------------------ PREPROCESSING ------------------ #\n",
    "encoders = {}\n",
    "for col in df.columns:\n",
    "    le = LabelEncoder()\n",
    "    df[col] = le.fit_transform(df[col])\n",
    "    encoders[col] = le\n",
    "\n",
    "X = df.drop('class', axis=1)\n",
    "y = df['class']\n",
    "\n",
    "X_train, X_test, y_train, y_test = train_test_split(\n",
    "    X, y, test_size=0.2, random_state=42, stratify=y\n",
    ")\n",
    "\n",
    "# ------------------ MODEL ------------------ #\n",
    "model = LogisticRegression(max_iter=1000, random_state=42)\n",
    "model.fit(X_train, y_train)\n",
    "\n",
    "# ------------------ EVALUATION ------------------ #\n",
    "y_pred = model.predict(X_test)\n",
    "\n",
    "print(\"Accuracy:\", accuracy_score(y_test, y_pred))\n",
    "print(\"\\nClassification Report:\\n\", classification_report(y_test, y_pred))\n",
    "print(\"\\nConfusion Matrix:\\n\", confusion_matrix(y_test, y_pred))\n",
    "\n",
    "# ------------------ PREDICTION EXAMPLE ------------------ #\n",
    "sample = pd.DataFrame([['high','low','4','more','big','high']], columns=columns[:-1])\n",
    "\n",
    "for col in sample.columns:\n",
    "    sample[col] = encoders[col].transform(sample[col])\n",
    "\n",
    "pred_class = model.predict(sample)\n",
    "pred_label = encoders['class'].inverse_transform(pred_class)\n",
    "\n",
    "# Probabilities\n",
    "pred_proba = model.predict_proba(sample)\n",
    "\n",
    "print(\"\\nPredicted binary decision for sample car:\", pred_label[0])\n",
    "print(\"Probability of not_buy:\", round(pred_proba[0][0], 3))\n",
    "print(\"Probability of buy    :\", round(pred_proba[0][1], 3))\n",
    "\n",
    "# ------------------ FEATURE IMPORTANCE (COEFFICIENTS) ------------------ #\n",
    "coefficients = model.coef_[0]\n",
    "feature_names = X.columns\n",
    "\n",
    "plt.figure(figsize=(8,5))\n",
    "plt.barh(feature_names, coefficients, color=\"orange\")\n",
    "plt.xlabel(\"Coefficient Value\")\n",
    "plt.ylabel(\"Feature\")\n",
    "plt.title(\"Logistic Regression Coefficients for Car Purchase Decision\")\n",
    "plt.gca().invert_yaxis()\n",
    "plt.show()\n"
   ]
  }
 ],
 "metadata": {
  "kernelspec": {
   "display_name": "Python 3",
   "language": "python",
   "name": "python3"
  },
  "language_info": {
   "codemirror_mode": {
    "name": "ipython",
    "version": 3
   },
   "file_extension": ".py",
   "mimetype": "text/x-python",
   "name": "python",
   "nbconvert_exporter": "python",
   "pygments_lexer": "ipython3",
   "version": "3.13.7"
  }
 },
 "nbformat": 4,
 "nbformat_minor": 5
}
