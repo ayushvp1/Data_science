{
 "cells": [
  {
   "cell_type": "code",
   "execution_count": 3,
   "id": "439ff018",
   "metadata": {},
   "outputs": [
    {
     "name": "stdout",
     "output_type": "stream",
     "text": [
      "Predicted Fish Weight: 515.62\n"
     ]
    }
   ],
   "source": [
    "import numpy as np\n",
    "from sklearn.model_selection import train_test_split\n",
    "from sklearn.linear_model import LinearRegression\n",
    "\n",
    "# Dataset: Length, Height → Weight\n",
    "X = np.array([\n",
    "    [30, 10],\n",
    "    [40, 12],\n",
    "    [35, 11],\n",
    "    [50, 15],\n",
    "    [45, 14],\n",
    "    [60, 18],\n",
    "    [55, 17],\n",
    "    [25, 9],\n",
    "    [20, 8],\n",
    "    [65, 20]\n",
    "])\n",
    "\n",
    "y = np.array([300, 450, 400, 600, 550, 800, 750, 250, 200, 900])  # Weight\n",
    "\n",
    "# Train/test split\n",
    "X_train, X_test, y_train, y_test = train_test_split(X, y, test_size=0.2, random_state=42)\n",
    "\n",
    "# Train model\n",
    "model = LinearRegression()\n",
    "model.fit(X_train, y_train)\n",
    "\n",
    "# Predict weight for new fish\n",
    "new_fish = [[48, 13]]\n",
    "predicted_weight = model.predict(new_fish)\n",
    "\n",
    "print(\"Predicted Fish Weight:\", round(predicted_weight[0], 2))\n",
    "\n"
   ]
  }
 ],
 "metadata": {
  "kernelspec": {
   "display_name": "Python 3",
   "language": "python",
   "name": "python3"
  },
  "language_info": {
   "codemirror_mode": {
    "name": "ipython",
    "version": 3
   },
   "file_extension": ".py",
   "mimetype": "text/x-python",
   "name": "python",
   "nbconvert_exporter": "python",
   "pygments_lexer": "ipython3",
   "version": "3.13.7"
  }
 },
 "nbformat": 4,
 "nbformat_minor": 5
}
