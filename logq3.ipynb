{
 "cells": [
  {
   "cell_type": "code",
   "execution_count": 2,
   "id": "61e82568",
   "metadata": {},
   "outputs": [
    {
     "name": "stdout",
     "output_type": "stream",
     "text": [
      "Predicted Tumor Type (0=Benign, 1=Malignant): 1\n"
     ]
    }
   ],
   "source": [
    "import numpy as np\n",
    "from sklearn.model_selection import train_test_split\n",
    "from sklearn.linear_model import LogisticRegression\n",
    "\n",
    "# Dataset: Tumor size, cell shape → Benign (0) or Malignant (1)\n",
    "X = np.array([\n",
    "    [2, 1], [3, 2], [1, 1], [4, 3], [5, 4],\n",
    "    [2, 2], [3, 3], [6, 5], [4, 2], [7, 6]\n",
    "])\n",
    "y = np.array([0, 0, 0, 1, 1, 0, 0, 1, 1, 1])\n",
    "\n",
    "# Train/test split\n",
    "X_train, X_test, y_train, y_test = train_test_split(X, y, test_size=0.2, random_state=42)\n",
    "\n",
    "# Logistic regression model\n",
    "model = LogisticRegression()\n",
    "model.fit(X_train, y_train)\n",
    "\n",
    "# Predict tumor type for a new tumor\n",
    "new_tumor = [[4, 3]]\n",
    "predicted_tumor = model.predict(new_tumor)\n",
    "\n",
    "print(\"Predicted Tumor Type (0=Benign, 1=Malignant):\", predicted_tumor[0])\n",
    "\n"
   ]
  }
 ],
 "metadata": {
  "kernelspec": {
   "display_name": "Python 3",
   "language": "python",
   "name": "python3"
  },
  "language_info": {
   "codemirror_mode": {
    "name": "ipython",
    "version": 3
   },
   "file_extension": ".py",
   "mimetype": "text/x-python",
   "name": "python",
   "nbconvert_exporter": "python",
   "pygments_lexer": "ipython3",
   "version": "3.13.7"
  }
 },
 "nbformat": 4,
 "nbformat_minor": 5
}
