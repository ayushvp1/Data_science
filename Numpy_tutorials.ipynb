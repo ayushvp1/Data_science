{
 "cells": [
  {
   "cell_type": "code",
   "execution_count": 9,
   "id": "f6ac566d",
   "metadata": {},
   "outputs": [
    {
     "name": "stdout",
     "output_type": "stream",
     "text": [
      "[1 2 3]\n"
     ]
    }
   ],
   "source": [
    "import numpy as np\n",
    "a=np.array([1,2,3])\n",
    "print(a)"
   ]
  },
  {
   "cell_type": "code",
   "execution_count": 12,
   "id": "d50e50e1",
   "metadata": {},
   "outputs": [
    {
     "name": "stdout",
     "output_type": "stream",
     "text": [
      "[ 0  2  4  6  8 10]\n"
     ]
    }
   ],
   "source": [
    "import numpy as np\n",
    "a = np.arange(0,12,2)\n",
    "print(a)\n",
    "# Output: [0 2 4 6 8]"
   ]
  },
  {
   "cell_type": "code",
   "execution_count": 13,
   "id": "82d24f55",
   "metadata": {},
   "outputs": [
    {
     "data": {
      "text/plain": [
       "array([[0., 0., 0., 0.],\n",
       "       [0., 0., 0., 0.],\n",
       "       [0., 0., 0., 0.]])"
      ]
     },
     "execution_count": 13,
     "metadata": {},
     "output_type": "execute_result"
    }
   ],
   "source": [
    "np.zeros((3,4))\n"
   ]
  },
  {
   "cell_type": "code",
   "execution_count": 16,
   "id": "c81a185e",
   "metadata": {},
   "outputs": [
    {
     "name": "stdout",
     "output_type": "stream",
     "text": [
      "reshaped [[ 0  2  4]\n",
      " [ 6  8 10]]\n"
     ]
    }
   ],
   "source": [
    "b = a.reshape((2,3))\n",
    "print(\"reshaped\",b)"
   ]
  },
  {
   "cell_type": "code",
   "execution_count": 20,
   "id": "8db006a9",
   "metadata": {},
   "outputs": [
    {
     "name": "stdout",
     "output_type": "stream",
     "text": [
      "4.25 3.0 3.491060010942235\n"
     ]
    }
   ],
   "source": [
    "arr = np.array([1,2,10,4])\n",
    "print(np.mean(arr),np.median(arr),np.std(arr))"
   ]
  },
  {
   "cell_type": "code",
   "execution_count": 45,
   "id": "7ad6cb95",
   "metadata": {},
   "outputs": [
    {
     "name": "stdout",
     "output_type": "stream",
     "text": [
      "[0.94471684 0.69380986 0.72851099 0.19451593 0.16868659 0.40893968\n",
      " 0.64687393 0.93012251 0.38010071 0.11323016]\n",
      "[9 8 1 1 6 5]\n"
     ]
    }
   ],
   "source": [
    "a = np.random.rand(10)\n",
    "print(a)\n",
    "a = np.random.randint(1,10,size=6)\n",
    "print(a)"
   ]
  },
  {
   "cell_type": "code",
   "execution_count": 47,
   "id": "75018520",
   "metadata": {},
   "outputs": [
    {
     "name": "stdout",
     "output_type": "stream",
     "text": [
      "otp:  [8 3 5 6 6 2]\n"
     ]
    }
   ],
   "source": [
    "ph = input(\"Enter phone number: \")\n",
    "otp = np.random.randint(10,size=6)\n",
    "print(\"otp: \",otp)\n"
   ]
  }
 ],
 "metadata": {
  "kernelspec": {
   "display_name": "Python 3",
   "language": "python",
   "name": "python3"
  },
  "language_info": {
   "codemirror_mode": {
    "name": "ipython",
    "version": 3
   },
   "file_extension": ".py",
   "mimetype": "text/x-python",
   "name": "python",
   "nbconvert_exporter": "python",
   "pygments_lexer": "ipython3",
   "version": "3.13.7"
  }
 },
 "nbformat": 4,
 "nbformat_minor": 5
}
