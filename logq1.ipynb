{
 "cells": [
  {
   "cell_type": "code",
   "execution_count": 1,
   "id": "b052576e",
   "metadata": {},
   "outputs": [
    {
     "name": "stdout",
     "output_type": "stream",
     "text": [
      "Failed\n"
     ]
    },
    {
     "name": "stderr",
     "output_type": "stream",
     "text": [
      "c:\\Users\\pc\\AppData\\Local\\Programs\\Python\\Python313\\Lib\\site-packages\\sklearn\\utils\\validation.py:2749: UserWarning: X does not have valid feature names, but LogisticRegression was fitted with feature names\n",
      "  warnings.warn(\n"
     ]
    }
   ],
   "source": [
    "#student Logistic\n",
    "import pandas as pd\n",
    "from sklearn.linear_model import LogisticRegression\n",
    "import numpy as np\n",
    "from sklearn.model_selection import train_test_split\n",
    "data={\n",
    "    'Hours':[2.5,5.1,6.8,8.3,2.1,7.7,4.4],\n",
    "    'Pass/Fail':[0,1,1,1,0,1,1]\n",
    "}\n",
    "df=pd.DataFrame(data)\n",
    "X=df[['Hours']]\n",
    "Y=df['Pass/Fail']\n",
    "X_train,X_test,Y_train,Y_test=train_test_split(X,Y,test_size=0.2,random_state=0)\n",
    "model=LogisticRegression()\n",
    "model.fit(X_train,Y_train)\n",
    "predicted_stuff=[[1]]\n",
    "predicted_stuff_val=model.predict(predicted_stuff)\n",
    "if predicted_stuff_val[0]==1:\n",
    "   print(\"Passed\")\n",
    "else:\n",
    "  print(\"Failed\")"
   ]
  }
 ],
 "metadata": {
  "kernelspec": {
   "display_name": "Python 3",
   "language": "python",
   "name": "python3"
  },
  "language_info": {
   "codemirror_mode": {
    "name": "ipython",
    "version": 3
   },
   "file_extension": ".py",
   "mimetype": "text/x-python",
   "name": "python",
   "nbconvert_exporter": "python",
   "pygments_lexer": "ipython3",
   "version": "3.13.7"
  }
 },
 "nbformat": 4,
 "nbformat_minor": 5
}
