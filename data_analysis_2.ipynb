{
 "cells": [
  {
   "cell_type": "code",
   "execution_count": null,
   "id": "6b0dc50a",
   "metadata": {},
   "outputs": [
    {
     "name": "stdout",
     "output_type": "stream",
     "text": [
      "ORDERNUMBER            0\n",
      "QUANTITYORDERED        0\n",
      "PRICEEACH              0\n",
      "ORDERLINENUMBER        0\n",
      "SALES                  0\n",
      "ORDERDATE            195\n",
      "STATUS                 7\n",
      "QTR_ID                 7\n",
      "MONTH_ID               7\n",
      "YEAR_ID               54\n",
      "PRODUCTLINE          196\n",
      "MSRP                  60\n",
      "PRODUCTCODE            7\n",
      "CUSTOMERNAME          46\n",
      "PHONE                 93\n",
      "ADDRESSLINE1         242\n",
      "ADDRESSLINE2        2544\n",
      "CITY                   7\n",
      "STATE               1491\n",
      "POSTALCODE            83\n",
      "COUNTRY                7\n",
      "TERRITORY           1077\n",
      "CONTACTLASTNAME        7\n",
      "CONTACTFIRSTNAME       7\n",
      "DEALSIZE             168\n",
      "dtype: int64\n",
      "ORDERNUMBER        0\n",
      "QUANTITYORDERED    0\n",
      "PRICEEACH          0\n",
      "ORDERLINENUMBER    0\n",
      "SALES              0\n",
      "QTR_ID             0\n",
      "MONTH_ID           0\n",
      "YEAR_ID            0\n",
      "MSRP               0\n",
      "dtype: int64\n"
     ]
    }
   ],
   "source": [
    "#we need install  sklearn by pip install scikit-learn\n",
    "import sklearn\n",
    "from sklearn.impute import KNNImputer\n",
    "import pandas as pd\n",
    "data = pd.read_csv(\"MISSING_DATASET_HANDLING.csv\",encoding='latin1')\n",
    "print(data.isnull().sum())\n",
    "imputer = KNNImputer(n_neighbors=5)\n",
    "data_imputed = pd.DataFrame(imputer.fit_transform(data.select_dtypes(include=[float, int])),\n",
    "                            columns=data.select_dtypes(include=[float, int]).columns)\n",
    "print(data_imputed.isnull().sum())"
   ]
  }
 ],
 "metadata": {
  "kernelspec": {
   "display_name": "Python 3",
   "language": "python",
   "name": "python3"
  },
  "language_info": {
   "codemirror_mode": {
    "name": "ipython",
    "version": 3
   },
   "file_extension": ".py",
   "mimetype": "text/x-python",
   "name": "python",
   "nbconvert_exporter": "python",
   "pygments_lexer": "ipython3",
   "version": "3.13.7"
  }
 },
 "nbformat": 4,
 "nbformat_minor": 5
}
