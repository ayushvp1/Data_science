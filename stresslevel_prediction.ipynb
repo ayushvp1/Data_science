{
 "cells": [
  {
   "cell_type": "code",
   "execution_count": 1,
   "id": "7363901f",
   "metadata": {},
   "outputs": [
    {
     "name": "stdout",
     "output_type": "stream",
     "text": [
      "Model R² Score: 0.9212969764314719\n"
     ]
    }
   ],
   "source": [
    "import pandas as pd\n",
    "from sklearn.model_selection import train_test_split\n",
    "from sklearn.linear_model import LinearRegression\n",
    "from sklearn.pipeline import Pipeline\n",
    "from sklearn.impute import SimpleImputer\n",
    "from sklearn.preprocessing import StandardScaler\n",
    "\n",
    "# Load dataset\n",
    "df = pd.read_csv(\"Tech_Use_Stress_Wellness.csv\")\n",
    "\n",
    "# Select only the 4 key features + target\n",
    "X = df[[\n",
    "    \"daily_screen_time_hours\",\n",
    "    \"social_media_hours\",\n",
    "    \"sleep_duration_hours\",\n",
    "    \"physical_activity_hours_per_week\"\n",
    "]]\n",
    "y = df[\"stress_level\"]\n",
    "\n",
    "# Train-test split\n",
    "X_train, X_test, y_train, y_test = train_test_split(X, y, test_size=0.2, random_state=42)\n",
    "\n",
    "# Build regression pipeline\n",
    "model = Pipeline([\n",
    "    (\"imputer\", SimpleImputer(strategy=\"mean\")),\n",
    "    (\"scaler\", StandardScaler()),\n",
    "    (\"regressor\", LinearRegression())\n",
    "])\n",
    "\n",
    "# Train\n",
    "model.fit(X_train, y_train)\n",
    "\n",
    "# Test accuracy (R² score)\n",
    "print(\"Model R² Score:\", model.score(X_test, y_test))\n",
    "\n",
    "\n",
    "\n"
   ]
  },
  {
   "cell_type": "code",
   "execution_count": 4,
   "id": "d95e1bf5",
   "metadata": {},
   "outputs": [
    {
     "name": "stdout",
     "output_type": "stream",
     "text": [
      "Predicted Stress Level: 6.69\n"
     ]
    }
   ],
   "source": [
    "# Take input from user\n",
    "daily_screen_time = float(input(\"Enter daily screen time in hours (0-16): \"))\n",
    "social_media_hours = float(input(\"Enter social media hours per day (0-10): \"))\n",
    "sleep_duration = float(input(\"Enter sleep duration in hours (0-10): \"))\n",
    "physical_activity = float(input(\"Enter physical activity hours per week (0-14): \"))\n",
    "\n",
    "# Create a dataframe for the new input\n",
    "new_data = pd.DataFrame([{\n",
    "    \"daily_screen_time_hours\": daily_screen_time,\n",
    "    \"social_media_hours\": social_media_hours,\n",
    "    \"sleep_duration_hours\": sleep_duration,\n",
    "    \"physical_activity_hours_per_week\": physical_activity\n",
    "}])\n",
    "\n",
    "# Predict stress level\n",
    "predicted_stress = model.predict(new_data)[0]\n",
    "print(f\"Predicted Stress Level: {predicted_stress:.2f}\")\n"
   ]
  }
 ],
 "metadata": {
  "kernelspec": {
   "display_name": "Python 3",
   "language": "python",
   "name": "python3"
  },
  "language_info": {
   "codemirror_mode": {
    "name": "ipython",
    "version": 3
   },
   "file_extension": ".py",
   "mimetype": "text/x-python",
   "name": "python",
   "nbconvert_exporter": "python",
   "pygments_lexer": "ipython3",
   "version": "3.13.7"
  }
 },
 "nbformat": 4,
 "nbformat_minor": 5
}
