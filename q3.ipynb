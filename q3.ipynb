{
 "cells": [
  {
   "cell_type": "code",
   "execution_count": 2,
   "id": "623c8123",
   "metadata": {},
   "outputs": [
    {
     "name": "stdout",
     "output_type": "stream",
     "text": [
      "Predicted Sales for new budget: 15.83\n",
      "\n",
      "Test Set Predictions: [-0.09116591 10.31807954]\n",
      "Actual Sales in Test Set: [ 5 10]\n"
     ]
    }
   ],
   "source": [
    "import numpy as np\n",
    "from sklearn.model_selection import train_test_split\n",
    "from sklearn.linear_model import LinearRegression\n",
    "\n",
    "# Example dataset: Advertising budget (TV, Radio, Newspaper) vs Sales\n",
    "X = np.array([\n",
    "    [230, 38, 69],\n",
    "    [45, 39, 45],\n",
    "    [17, 46, 69],\n",
    "    [152, 41, 59],\n",
    "    [181, 11, 58],\n",
    "    [9, 49, 75],\n",
    "    [58, 33, 24],\n",
    "    [120, 20, 12],\n",
    "    [9, 2, 1],\n",
    "    [200, 3, 21]\n",
    "])\n",
    "\n",
    "# Sales (target variable)\n",
    "y = np.array([22, 10, 9, 18, 13, 7, 12, 13, 5, 11])\n",
    "\n",
    "# Split into train and test sets\n",
    "X_train, X_test, y_train, y_test = train_test_split(X, y, test_size=0.2, random_state=42)\n",
    "\n",
    "# Build linear regression model\n",
    "model = LinearRegression()\n",
    "model.fit(X_train, y_train)\n",
    "\n",
    "# Predict sales for test set\n",
    "predictions = model.predict(X_test)\n",
    "\n",
    "# Predict sales for a new advertising budget\n",
    "new_budget = [[150, 30, 40]]\n",
    "predicted_sales = model.predict(new_budget)\n",
    "\n",
    "print(\"Predicted Sales for new budget:\", round(predicted_sales[0], 2))\n",
    "print(\"\\nTest Set Predictions:\", predictions)\n",
    "print(\"Actual Sales in Test Set:\", y_test)\n"
   ]
  }
 ],
 "metadata": {
  "kernelspec": {
   "display_name": "Python 3",
   "language": "python",
   "name": "python3"
  },
  "language_info": {
   "codemirror_mode": {
    "name": "ipython",
    "version": 3
   },
   "file_extension": ".py",
   "mimetype": "text/x-python",
   "name": "python",
   "nbconvert_exporter": "python",
   "pygments_lexer": "ipython3",
   "version": "3.13.7"
  }
 },
 "nbformat": 4,
 "nbformat_minor": 5
}
