{
 "cells": [
  {
   "cell_type": "code",
   "execution_count": 5,
   "id": "c5de5aee",
   "metadata": {},
   "outputs": [
    {
     "name": "stdout",
     "output_type": "stream",
     "text": [
      "Intercept(base price):  78000.00000000006\n",
      "Slope(Preice per sq_fit): 149.99999999999994\n",
      "Predicted price for 1100 sqft = $243000.00\n"
     ]
    }
   ],
   "source": [
    "import pandas as pd\n",
    "import numpy as np\n",
    "import matplotlib.pyplot as plt\n",
    "from sklearn.linear_model import LinearRegression\n",
    "# house size-> x, house price-> y \n",
    "x= np.array([500, 800,1000,1200,1500]).reshape(-1,1)\n",
    "y = np.array([150000,200000,230000,260000,300000])\n",
    "model=LinearRegression()\n",
    "model.fit(x,y)\n",
    "\n",
    "#2. Model parameters\n",
    "print(\"Intercept(base price): \",model.intercept_)\n",
    "print(\"Slope(Preice per sq_fit):\",model.coef_[0])\n",
    "size =1100\n",
    "predicted_price = model.predict([[size]])\n",
    "print(f\"Predicted price for {size} sqft = ${predicted_price[0]:.2f}\")"
   ]
  }
 ],
 "metadata": {
  "kernelspec": {
   "display_name": "Python 3",
   "language": "python",
   "name": "python3"
  },
  "language_info": {
   "codemirror_mode": {
    "name": "ipython",
    "version": 3
   },
   "file_extension": ".py",
   "mimetype": "text/x-python",
   "name": "python",
   "nbconvert_exporter": "python",
   "pygments_lexer": "ipython3",
   "version": "3.13.7"
  }
 },
 "nbformat": 4,
 "nbformat_minor": 5
}
