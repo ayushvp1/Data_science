{
 "cells": [
  {
   "cell_type": "code",
   "execution_count": null,
   "id": "7d071021",
   "metadata": {},
   "outputs": [],
   "source": [
    "import numpy as np\n",
    "from sklearn.model_selection import train_test_split\n",
    "from sklearn.linear_model import LogisticRegression\n",
    "\n",
    "# Dataset: Email length, number of links → Spam (1) or Not Spam (0)\n",
    "X = np.array([\n",
    "    [50, 1], [100, 5], [80, 2], [200, 8], [150, 3],\n",
    "    [40, 0], [70, 1], [180, 6], [60, 2], [160, 4]\n",
    "])\n",
    "y = np.array([0, 1, 0, 1, 1, 0, 0, 1, 0, 1])\n",
    "\n",
    "# Train/test split\n",
    "X_train, X_test, y_train, y_test = train_test_split(X, y, test_size=0.2, random_state=42)\n",
    "\n",
    "# Logistic regression model\n",
    "model = LogisticRegression()\n",
    "model.fit(X_train, y_train)\n",
    "\n",
    "# Predict for a new email\n",
    "new_email = [[120, 4]]\n",
    "predicted_spam = model.predict(new_email)\n",
    "\n",
    "print(\"Predicted Spam (1=Spam, 0=Not Spam):\", predicted_spam[0])\n",
    "\n"
   ]
  }
 ],
 "metadata": {
  "kernelspec": {
   "display_name": "Python 3",
   "language": "python",
   "name": "python3"
  },
  "language_info": {
   "codemirror_mode": {
    "name": "ipython",
    "version": 3
   },
   "file_extension": ".py",
   "mimetype": "text/x-python",
   "name": "python",
   "nbconvert_exporter": "python",
   "pygments_lexer": "ipython3",
   "version": "3.13.7"
  }
 },
 "nbformat": 4,
 "nbformat_minor": 5
}
